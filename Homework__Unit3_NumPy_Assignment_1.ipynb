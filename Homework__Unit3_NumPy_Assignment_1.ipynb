{
  "nbformat": 4,
  "nbformat_minor": 0,
  "metadata": {
    "colab": {
      "name": "Homework_ Unit3_NumPy_Assignment_1.ipynb",
      "provenance": [],
      "collapsed_sections": [],
      "toc_visible": true,
      "include_colab_link": true
    },
    "kernelspec": {
      "name": "python3",
      "display_name": "Python 3"
    }
  },
  "cells": [
    {
      "cell_type": "markdown",
      "metadata": {
        "id": "view-in-github",
        "colab_type": "text"
      },
      "source": [
        "<a href=\"https://colab.research.google.com/github/LeeVander351/data_analytics_2/blob/main/Homework__Unit3_NumPy_Assignment_1.ipynb\" target=\"_parent\"><img src=\"https://colab.research.google.com/assets/colab-badge.svg\" alt=\"Open In Colab\"/></a>"
      ]
    },
    {
      "cell_type": "markdown",
      "metadata": {
        "id": "Vgs8Kp4TidFQ"
      },
      "source": [
        "# Unit 3 - Advanced Python - NumPy - Assingment #1  "
      ]
    },
    {
      "cell_type": "markdown",
      "metadata": {
        "id": "_Hq7Ny79iwgD"
      },
      "source": [
        "## 1. Environment Set up"
      ]
    },
    {
      "cell_type": "code",
      "metadata": {
        "id": "MiB4JCOP5FdJ"
      },
      "source": [
        "\n",
        "\n",
        "import pandas as pd\n",
        "import numpy as np \n",
        "import  matplotlib.pyplot as plt\n",
        "import seaborn as sns\n",
        "% matplotlib inline\n"
      ],
      "execution_count": 17,
      "outputs": []
    },
    {
      "cell_type": "code",
      "metadata": {
        "id": "lotvpVpvlKsR"
      },
      "source": [
        "#Dataset from summer Olympic London, year 2012\n",
        "np_olympic_country = np.array(['GBR','China','RUS','US','KOR','JPN','GER'])\n",
        "np_olympic_country_Gold = np.array([29,38,24,46,13,7,11])\n",
        "np_olympic_country_Silver = np.array([17,28,25,28,8,14,11])\n",
        "np_olympic_country_Bronze = np.array([19,22,32,29,7,17,14])"
      ],
      "execution_count": 18,
      "outputs": []
    },
    {
      "cell_type": "markdown",
      "metadata": {
        "id": "io_27RSlizno"
      },
      "source": [
        "## 2.\tFind country with maximum gold"
      ]
    },
    {
      "cell_type": "code",
      "metadata": {
        "id": "ond0YGjiSt0E"
      },
      "source": [
        "#Dataset from summer Olympic London, year 2012\n",
        "np_olympic_country = np.array(['GBR','China','RUS','US','KOR','JPN','GER'])\n",
        "np_olympic_country_Gold = np.array([29,38,24,46,13,7,11])\n",
        "np_olympic_country_Silver = np.array([17,28,25,28,8,14,11])\n",
        "np_olympic_country_Bronze = np.array([19,22,32,29,7,17,14])"
      ],
      "execution_count": 19,
      "outputs": []
    },
    {
      "cell_type": "code",
      "metadata": {
        "id": "k6YqJO-FUnRQ"
      },
      "source": [
        "#Find Country with maximum gold\n"
      ],
      "execution_count": null,
      "outputs": []
    },
    {
      "cell_type": "code",
      "metadata": {
        "colab": {
          "base_uri": "https://localhost:8080/"
        },
        "id": "_I5byijmYs9h",
        "outputId": "c23a5d8e-b499-4025-bdff-306a41394283"
      },
      "source": [
        "winner = np.where(np_olympic_country_Gold== np.max(np_olympic_country_Gold))\n",
        "print('Max number of gold medals',np.max(np_olympic_country_Gold ))\n",
        "print('index number of maximum element (gold medals) :', winner[0])\n",
        "print('The country with Max number of gold medals is:',np_olympic_country[winner])\n",
        "more_than_20_medals=np_olympic_country_Gold >20\n",
        "print (more_than_20_medals)\n",
        "np_olympic_country_Gold[more_than_20_medals]\n",
        "x = np.where(np_olympic_country_Gold >20)\n",
        "\n",
        "print('the countries with more than 20 medals are:',np_olympic_country[x])\n",
        "\n",
        "# Countries with the max gold "
      ],
      "execution_count": 27,
      "outputs": [
        {
          "output_type": "stream",
          "text": [
            "Max number of gold medals 46\n",
            "index number of maximum element (gold medals) : [3]\n",
            "The country with Max number of gold medals is: ['US']\n",
            "[ True  True  True  True False False False]\n",
            "the countries with more than 20 medals are: ['GBR' 'China' 'RUS' 'US']\n"
          ],
          "name": "stdout"
        }
      ]
    },
    {
      "cell_type": "markdown",
      "metadata": {
        "id": "E9nAZX_SUO6O"
      },
      "source": [
        ""
      ]
    },
    {
      "cell_type": "markdown",
      "metadata": {
        "id": "DAW8m8IQjRyR"
      },
      "source": [
        "## 3.\tFind countries with more than 20 gold medals"
      ]
    },
    {
      "cell_type": "code",
      "metadata": {
        "id": "guULMEhrjYtT",
        "colab": {
          "base_uri": "https://localhost:8080/"
        },
        "outputId": "ffd57f0e-edbd-4b78-a564-c42951fab498"
      },
      "source": [
        "import numpy as np\n",
        "np_olympic_country_Gold = np.array([29,38,24,46,13,7,11])\n",
        "more_than_20_medals=np_olympic_country_Gold >20\n",
        "print(more_than_20_medals)\n",
        "np_olympic_country_Gold[more_than_20_medals]\n",
        "x = np.where(np_olympic_country_Gold >20)\n",
        "\n",
        "print(x)"
      ],
      "execution_count": 28,
      "outputs": [
        {
          "output_type": "stream",
          "text": [
            "[ True  True  True  True False False False]\n",
            "(array([0, 1, 2, 3]),)\n"
          ],
          "name": "stdout"
        }
      ]
    }
  ]
}