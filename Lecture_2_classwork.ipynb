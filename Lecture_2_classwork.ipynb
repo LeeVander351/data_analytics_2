{
  "nbformat": 4,
  "nbformat_minor": 0,
  "metadata": {
    "colab": {
      "name": "Lecture 2 classwork",
      "provenance": [],
      "collapsed_sections": [],
      "authorship_tag": "ABX9TyMAj9V8YXP0r/raHSI+vKLy",
      "include_colab_link": true
    },
    "kernelspec": {
      "name": "python3",
      "display_name": "Python 3"
    },
    "language_info": {
      "name": "python"
    }
  },
  "cells": [
    {
      "cell_type": "markdown",
      "metadata": {
        "id": "view-in-github",
        "colab_type": "text"
      },
      "source": [
        "<a href=\"https://colab.research.google.com/github/LeeVander351/data_analytics_2/blob/main/Lecture_2_classwork.ipynb\" target=\"_parent\"><img src=\"https://colab.research.google.com/assets/colab-badge.svg\" alt=\"Open In Colab\"/></a>"
      ]
    },
    {
      "cell_type": "code",
      "metadata": {
        "id": "hjZfTp4NNRKK",
        "colab": {
          "base_uri": "https://localhost:8080/"
        },
        "outputId": "1f293177-5ca5-4fb6-8b3d-1abe0b971a57"
      },
      "source": [
        "print (3+5)\n",
        "print(4*2)\n",
        "print(16/2)\n",
        "x=\"April 4th\"\n",
        "message= \"Carolina my favorite number observes my day of birth\", str(x)\n",
        "print(message)"
      ],
      "execution_count": null,
      "outputs": [
        {
          "output_type": "stream",
          "text": [
            "8\n",
            "8\n",
            "8.0\n",
            "('Carolina my favorite number observes my day of birth', 'April 4th')\n"
          ],
          "name": "stdout"
        }
      ]
    },
    {
      "cell_type": "markdown",
      "metadata": {
        "id": "aMLz9HQSUWww"
      },
      "source": [
        "Write addition, subtraction, multiplication, and division operations that each\n",
        "result in the number 8. For example: print(5 + 3)\n",
        "\n",
        "Store your favorite number in a variable. Then, create a message telling your\n",
        "friend what your favorite number is."
      ]
    },
    {
      "cell_type": "code",
      "metadata": {
        "colab": {
          "base_uri": "https://localhost:8080/"
        },
        "id": "2NhUYgYObF27",
        "outputId": "33fe4d50-6be7-4490-8086-791344c43bcd"
      },
      "source": [
        "movies=['star wars', 'star trek', 'lord of the rings', 'avengers']\n",
        "print(movies)"
      ],
      "execution_count": null,
      "outputs": [
        {
          "output_type": "stream",
          "text": [
            "['star wars', 'star trek', 'lord of the rings', 'avengers']\n"
          ],
          "name": "stdout"
        }
      ]
    },
    {
      "cell_type": "markdown",
      "metadata": {
        "id": "NKldIPJJf14X"
      },
      "source": [
        "Store the names of a few of your friends in a list called friends. Print each\n",
        "person’s name by accessing each element in the list one at a time.\n",
        "\n",
        "Using your list friends, print a message to each friend."
      ]
    },
    {
      "cell_type": "markdown",
      "metadata": {
        "id": "Cv4l6K-dgSL3"
      },
      "source": [
        ""
      ]
    },
    {
      "cell_type": "markdown",
      "metadata": {
        "id": "mUmK_vtZfwcB"
      },
      "source": [
        ""
      ]
    },
    {
      "cell_type": "code",
      "metadata": {
        "id": "UHAXkyn9hbVf"
      },
      "source": [
        "friends = ['keith','sally','carolina','james']\n",
        "\n",
        "message= ('Hello my friend'\"\\n\" + friends[3].title() +  'good to see you')\n",
        "\n",
        "\n",
        "\n",
        "\n",
        "\n",
        "\n"
      ],
      "execution_count": null,
      "outputs": []
    },
    {
      "cell_type": "code",
      "metadata": {
        "colab": {
          "base_uri": "https://localhost:8080/"
        },
        "id": "mBNoHGP6f4VS",
        "outputId": "04d8051a-3539-4959-a149-2eef538b8912"
      },
      "source": [
        "friends= ('keith', 'sally', 'carolina', 'james')\n",
        "print (friends[0])\n",
        "print (friends[1])\n",
        "print (friends[2])\n",
        "print(friends[3])\n"
      ],
      "execution_count": null,
      "outputs": [
        {
          "output_type": "stream",
          "text": [
            "keith\n",
            "sally\n",
            "carolina\n",
            "james\n"
          ],
          "name": "stdout"
        }
      ]
    },
    {
      "cell_type": "code",
      "metadata": {
        "colab": {
          "base_uri": "https://localhost:8080/"
        },
        "id": "s-GmpDjITZED",
        "outputId": "e230e8a4-db84-4bae-cc1c-647d2a2ab97f"
      },
      "source": [
        "foods= ['cabbage', 'ice cream', 'stuffing', 'roast beef', 'candy apples']\n",
        "print('some great foods to eat')\n",
        "for tastyfoods in foods[:1]:\n",
        "    print(tastyfoods.title())\n",
        "  "
      ],
      "execution_count": null,
      "outputs": [
        {
          "output_type": "stream",
          "text": [
            "some great foods to eat\n",
            "Cabbage\n"
          ],
          "name": "stdout"
        }
      ]
    },
    {
      "cell_type": "markdown",
      "metadata": {
        "id": "d1XDaDxmUzY3"
      },
      "source": [
        ""
      ]
    },
    {
      "cell_type": "code",
      "metadata": {
        "colab": {
          "base_uri": "https://localhost:8080/"
        },
        "id": "KkEBtElGhFQ1",
        "outputId": "8765b895-a6a9-4d38-cd75-fbbedd4a56f1"
      },
      "source": [
        "foods=['cabbage', 'ice cream','stuffing', 'roast beef', 'candy apples']\n",
        "for x in foods:\n",
        "  if x ==\"stuffing\":\n",
        "    continue\n",
        "  print(x)\n"
      ],
      "execution_count": null,
      "outputs": [
        {
          "output_type": "stream",
          "text": [
            "cabbage\n",
            "ice cream\n",
            "roast beef\n",
            "candy apples\n"
          ],
          "name": "stdout"
        }
      ]
    },
    {
      "cell_type": "markdown",
      "metadata": {
        "id": "dcEP8YJehE47"
      },
      "source": [
        ""
      ]
    },
    {
      "cell_type": "markdown",
      "metadata": {
        "id": "5ZjC3L6ujWs1"
      },
      "source": [
        "\n",
        "#fruits = ['orange', 'mango', 'pineapple', 'lemon', 'strawberry']\n",
        "\n",
        "for x in range(len(fruits)): # here x will be go from zero to four. len(fruits) will return 5 elements\n",
        "  print(fruits[x])\n",
        "\n",
        "\n",
        "#for item in fruits:  #here item correspond to each item of the fruits list.\n",
        "  if item == 'pineapple': # if the item at this iteration is equal to 'pineapple' we print the message.\n",
        "    print('{} is one of my favorite fruits!'.format(item))\n",
        "\n"
      ]
    },
    {
      "cell_type": "code",
      "metadata": {
        "colab": {
          "base_uri": "https://localhost:8080/"
        },
        "id": "179bW939k4sQ",
        "outputId": "2aca628c-6a15-4018-df90-d900b424615e"
      },
      "source": [
        "for num in range(1,11):\n",
        "  print(num)"
      ],
      "execution_count": null,
      "outputs": [
        {
          "output_type": "stream",
          "text": [
            "1\n",
            "2\n",
            "3\n",
            "4\n",
            "5\n",
            "6\n",
            "7\n",
            "8\n",
            "9\n",
            "10\n"
          ],
          "name": "stdout"
        }
      ]
    },
    {
      "cell_type": "code",
      "metadata": {
        "id": "MZ0aMz-tlK80"
      },
      "source": [
        "for num in range(1,1000001):\n",
        "  print(num)"
      ],
      "execution_count": null,
      "outputs": []
    },
    {
      "cell_type": "code",
      "metadata": {
        "colab": {
          "base_uri": "https://localhost:8080/"
        },
        "id": "IaL1Q5sJlgIQ",
        "outputId": "8b1bcb7e-0c35-43df-b093-f4902bb779ed"
      },
      "source": [
        "numbers = list(range(0,21, 2))\n",
        "print (numbers)\n",
        "min(numbers)\n",
        "max(numbers)\n",
        "sum(numbers)\n",
        " "
      ],
      "execution_count": null,
      "outputs": [
        {
          "output_type": "stream",
          "text": [
            "[0, 2, 4, 6, 8, 10, 12, 14, 16, 18, 20]\n"
          ],
          "name": "stdout"
        },
        {
          "output_type": "execute_result",
          "data": {
            "text/plain": [
              "110"
            ]
          },
          "metadata": {
            "tags": []
          },
          "execution_count": 83
        }
      ]
    },
    {
      "cell_type": "code",
      "metadata": {
        "colab": {
          "base_uri": "https://localhost:8080/"
        },
        "id": "NBE_Bup4nWTV",
        "outputId": "bfcdbca1-9571-400f-a685-fe58e34833c1"
      },
      "source": [
        "for i in range(1,21):\n",
        "  if (i%2)==0:\n",
        "    print (i)\n"
      ],
      "execution_count": 134,
      "outputs": [
        {
          "output_type": "stream",
          "text": [
            "2\n",
            "4\n",
            "6\n",
            "8\n",
            "10\n",
            "12\n",
            "14\n",
            "16\n",
            "18\n",
            "20\n"
          ],
          "name": "stdout"
        }
      ]
    },
    {
      "cell_type": "code",
      "metadata": {
        "id": "HOeFEULloyJh",
        "colab": {
          "base_uri": "https://localhost:8080/"
        },
        "outputId": "88a1af89-6051-4bd3-a0dc-7e28707ccc79"
      },
      "source": [
        "patient_exam = ('ekg')\n",
        "if patient_exam != 'egk':\n",
        "  print('Incorrect exam')"
      ],
      "execution_count": 102,
      "outputs": [
        {
          "output_type": "stream",
          "text": [
            "Incorrect exam\n"
          ],
          "name": "stdout"
        }
      ]
    },
    {
      "cell_type": "code",
      "metadata": {
        "id": "KzMTrI191CWw"
      },
      "source": [
        "medical =['Ekg', 'colonscony', 'Heart monitor']\n",
        "\n",
        "for exam in medical:\n",
        "  if exam == 'heart monitor':\n",
        "    print (medical.upper())\n"
      ],
      "execution_count": 131,
      "outputs": []
    },
    {
      "cell_type": "code",
      "metadata": {
        "colab": {
          "base_uri": "https://localhost:8080/"
        },
        "id": "PAUeShFN82KG",
        "outputId": "906fdbcf-f8a0-401e-a8d3-a4d56e58c47a"
      },
      "source": [
        "toppings=['chocolate', 'sprinkles', 'cherries', 'whip cream']\n",
        "for topping in toppings:\n",
        "  if topping == 'chocolate': \n",
        "    print ('all out of chocolate !')\n",
        "else: \n",
        "    print('adding the following!' + topping)\n"
      ],
      "execution_count": 128,
      "outputs": [
        {
          "output_type": "stream",
          "text": [
            "all out of chocolate !\n",
            "adding the following !whip cream\n"
          ],
          "name": "stdout"
        }
      ]
    }
  ]
}